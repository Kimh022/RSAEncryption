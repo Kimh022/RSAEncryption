{
  "nbformat": 4,
  "nbformat_minor": 0,
  "metadata": {
    "colab": {
      "provenance": []
    },
    "kernelspec": {
      "name": "python3",
      "display_name": "Python 3"
    },
    "language_info": {
      "name": "python"
    }
  },
  "cells": [
    {
      "cell_type": "code",
      "execution_count": null,
      "metadata": {
        "id": "EmsDR4OmFn3Z"
      },
      "outputs": [],
      "source": [
        "import numpy as np\n",
        "from sympy.ntheory import factorint\n",
        "\n",
        "def RSAenc(p,q,e,m):\n",
        "  n = p*q\n",
        "  phin = (p-1)*(q-1)\n",
        "  d = bezout(e,phin) [0]\n",
        "  cm = m**e % n\n",
        "\n",
        "\n",
        "  return cm\n",
        "\n",
        "\n",
        "def bezout(a,b):\n",
        "  if b == 0:\n",
        "    return 1,0,a\n",
        "  else:\n",
        "    q = a//b #quotient when you divide a by b\n",
        "    r = a%b #remainder when you divide a by b\n",
        "    x,y,z = bezout(b,r)\n",
        "\n",
        "    return (y,x-q*y,z)\n",
        "\n",
        "def RSAdec(p,q,e,c):\n",
        "  n = p*q\n",
        "  phin = (p-1)*(q-1)\n",
        "  d = bezout(e,phin) [0]\n",
        "  m = pow(c,d,n)\n",
        "\n",
        "  return m"
      ]
    },
    {
      "cell_type": "code",
      "source": [
        "print(RSAenc(1559,1721,303,197))\n",
        "print(RSAenc(1559,1721,211,191))\n",
        "print(RSAenc(1559,1721,101,15))\n",
        "print(RSAenc(1559,1721,2020,103))\n"
      ],
      "metadata": {
        "colab": {
          "base_uri": "https://localhost:8080/"
        },
        "id": "O27juBf5GENK",
        "outputId": "f17bc910-9462-4ae7-e162-3476fff11f5b"
      },
      "execution_count": null,
      "outputs": [
        {
          "output_type": "stream",
          "name": "stdout",
          "text": [
            "1828286\n",
            "51009\n",
            "2282342\n",
            "1930645\n"
          ]
        }
      ]
    },
    {
      "cell_type": "code",
      "source": [
        "bezout(3700*7536, 443)"
      ],
      "metadata": {
        "id": "YzO16fWTHo0K",
        "colab": {
          "base_uri": "https://localhost:8080/"
        },
        "outputId": "1d658808-732d-412f-ec2e-f6ee145aa7cc"
      },
      "execution_count": null,
      "outputs": [
        {
          "output_type": "execute_result",
          "data": {
            "text/plain": [
              "(-163, 10259507, 1)"
            ]
          },
          "metadata": {},
          "execution_count": 5
        }
      ]
    },
    {
      "cell_type": "code",
      "source": [
        "print(RSAenc(3701,7537,443,11034007))"
      ],
      "metadata": {
        "colab": {
          "base_uri": "https://localhost:8080/"
        },
        "id": "8VTQgmpYYIph",
        "outputId": "6d3b7ff2-4d0a-4be1-ec12-13eb8c6167a9"
      },
      "execution_count": null,
      "outputs": [
        {
          "output_type": "stream",
          "name": "stdout",
          "text": [
            "19717832\n"
          ]
        }
      ]
    },
    {
      "cell_type": "code",
      "source": [
        "print(RSAdec(3701,7537,443,27870438))"
      ],
      "metadata": {
        "id": "2vvLGZotZIPG",
        "colab": {
          "base_uri": "https://localhost:8080/"
        },
        "outputId": "10c7fece-b3f4-43cf-f0e6-ce034eedc34b"
      },
      "execution_count": null,
      "outputs": [
        {
          "output_type": "stream",
          "name": "stdout",
          "text": [
            "13012008\n"
          ]
        }
      ]
    },
    {
      "cell_type": "code",
      "source": [
        "pow(2653781,abs(bezout(1101743,3255840)[0]),3259499)"
      ],
      "metadata": {
        "id": "pSbF6CD_ZoJb",
        "colab": {
          "base_uri": "https://localhost:8080/"
        },
        "outputId": "3956498b-0535-4756-e9e1-fca1f7f59f13"
      },
      "execution_count": null,
      "outputs": [
        {
          "output_type": "execute_result",
          "data": {
            "text/plain": [
              "845760"
            ]
          },
          "metadata": {},
          "execution_count": 17
        }
      ]
    },
    {
      "cell_type": "code",
      "source": [],
      "metadata": {
        "id": "QnxrDo78eQqy"
      },
      "execution_count": null,
      "outputs": []
    }
  ]
}